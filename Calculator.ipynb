{
 "cells": [
  {
   "cell_type": "code",
   "execution_count": 1,
   "metadata": {},
   "outputs": [],
   "source": [
    "import tkinter as tk"
   ]
  },
  {
   "cell_type": "code",
   "execution_count": null,
   "metadata": {},
   "outputs": [],
   "source": [
    "#!pip install tkinter"
   ]
  },
  {
   "cell_type": "code",
   "execution_count": 2,
   "metadata": {},
   "outputs": [],
   "source": [
    "# Create the main Tkinter window\n",
    "root = tk.Tk()\n",
    "\n",
    "# Set the window title\n",
    "root.title(\"Calculator\")\n",
    "\n",
    "# Set the geometry \n",
    "root.geometry(\"400x500\")\n",
    "\n",
    "# Set the config\n",
    "root.config(bg=\"#f0f0f0\")"
   ]
  },
  {
   "cell_type": "code",
   "execution_count": 3,
   "metadata": {},
   "outputs": [],
   "source": [
    "# Create a string variable to hold the current number being input\n",
    "current_number = tk.StringVar()\n",
    "current_number.set(\"0\")"
   ]
  },
  {
   "cell_type": "code",
   "execution_count": 4,
   "metadata": {},
   "outputs": [],
   "source": [
    "# Create a frame for the entry widget to make it visually distinct\n",
    "entry_frame = tk.Frame(root, bg=\"white\")\n",
    "entry_frame.pack(pady=10)"
   ]
  },
  {
   "cell_type": "code",
   "execution_count": 5,
   "metadata": {},
   "outputs": [],
   "source": [
    "# Create the entry widget to display the current number\n",
    "entry = tk.Entry(entry_frame, textvariable=current_number,font=(\"Arial\", 30),bd=0,bg=\"white\", fg=\"black\", justify=\"right\")\n",
    "entry.pack(fill=\"both\", expand=True)"
   ]
  },
  {
   "cell_type": "code",
   "execution_count": 6,
   "metadata": {},
   "outputs": [],
   "source": [
    "# Create a frame for the calculator buttons\n",
    "buttons_frame = tk.Frame(root)\n",
    "buttons_frame.pack()"
   ]
  },
  {
   "cell_type": "code",
   "execution_count": 7,
   "metadata": {},
   "outputs": [],
   "source": [
    "# Define the function to handle button clicks\n",
    "def on_button_click(value):\n",
    "    # Evaluate the expression when '=' is pressed\n",
    "    if value == '=':\n",
    "        try:\n",
    "            result = eval(current_number.get())\n",
    "            current_number.set(str(result))\n",
    "        except Exception as e:\n",
    "            current_number.set(\"Error\")\n",
    "    # Clear the entry when 'C' is pressed\n",
    "    elif value == 'C':\n",
    "        current_number.set(\"0\")\n",
    "    # Concatenate digits and operators\n",
    "    else:\n",
    "        # If current number is 0, replace it with the pressed value\n",
    "        if current_number.get() == \"0\":\n",
    "            current_number.set(value)\n",
    "        # Otherwise, append the pressed value to the current number\n",
    "        else:\n",
    "            current_number.set(current_number.get() + value)"
   ]
  },
  {
   "cell_type": "code",
   "execution_count": 8,
   "metadata": {},
   "outputs": [],
   "source": [
    "# Define the layout of the buttons\n",
    "buttons = [\n",
    "    ('7', '8', '9', '/'),\n",
    "    ('4', '5', '6', '*'),\n",
    "    ('1', '2', '3', '-'),\n",
    "    ('C', '0', '=', '+')\n",
    "]"
   ]
  },
  {
   "cell_type": "code",
   "execution_count": 9,
   "metadata": {},
   "outputs": [],
   "source": [
    "# Define a function to handle button clicks\n",
    "def button_click_handler(value):\n",
    "    return lambda: on_button_click(value)\n"
   ]
  },
  {
   "cell_type": "code",
   "execution_count": 10,
   "metadata": {},
   "outputs": [],
   "source": [
    "# Create buttons based on the defined layout\n",
    "for i in range(4):\n",
    "    for j in range(4):\n",
    "        # Create a button with specified text, font, size, color, and command\n",
    "        button = tk.Button(buttons_frame, text=buttons[i][j], font=(\"Arial\", 20), bg=\"#dcdcdc\", fg=\"black\", bd=1, width=5, height=2, command= button_click_handler(buttons[i][j]))\n",
    "        # Place the button in the grid layout\n",
    "        button.grid(row=i, column=j, padx=5, pady=5, sticky=\"nsew\")"
   ]
  },
  {
   "cell_type": "code",
   "execution_count": 11,
   "metadata": {},
   "outputs": [],
   "source": [
    "# Configure row and column weights for resizing\n",
    "buttons_frame.columnconfigure(0, weight=1)\n",
    "buttons_frame.columnconfigure(1, weight=1)\n",
    "buttons_frame.columnconfigure(2, weight=1)\n",
    "buttons_frame.columnconfigure(3, weight=1)\n",
    "buttons_frame.rowconfigure(0, weight=1)\n",
    "buttons_frame.rowconfigure(1, weight=1)\n",
    "buttons_frame.rowconfigure(2, weight=1)\n",
    "buttons_frame.rowconfigure(3, weight=1)\n"
   ]
  },
  {
   "cell_type": "code",
   "execution_count": 12,
   "metadata": {},
   "outputs": [],
   "source": [
    "# Start the Tkinter event loop\n",
    "root.mainloop()"
   ]
  },
  {
   "cell_type": "code",
   "execution_count": null,
   "metadata": {},
   "outputs": [],
   "source": []
  },
  {
   "cell_type": "code",
   "execution_count": null,
   "metadata": {},
   "outputs": [],
   "source": []
  },
  {
   "cell_type": "code",
   "execution_count": null,
   "metadata": {},
   "outputs": [],
   "source": []
  }
 ],
 "metadata": {
  "kernelspec": {
   "display_name": "Python 3",
   "language": "python",
   "name": "python3"
  },
  "language_info": {
   "codemirror_mode": {
    "name": "ipython",
    "version": 3
   },
   "file_extension": ".py",
   "mimetype": "text/x-python",
   "name": "python",
   "nbconvert_exporter": "python",
   "pygments_lexer": "ipython3",
   "version": "3.7.4"
  }
 },
 "nbformat": 4,
 "nbformat_minor": 2
}
